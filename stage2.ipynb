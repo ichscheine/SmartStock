{
 "cells": [
  {
   "cell_type": "code",
   "execution_count": 158,
   "metadata": {},
   "outputs": [],
   "source": [
    "import pandas as pd\n",
    "import matplotlib.pyplot as plt\n",
    "import numpy as np\n",
    "import statsmodels.api as sm\n",
    "from datetime import datetime, timedelta\n",
    "import warnings\n",
    "warnings.filterwarnings('ignore')"
   ]
  },
  {
   "cell_type": "code",
   "execution_count": 159,
   "metadata": {},
   "outputs": [],
   "source": [
    "## p(y_i = 1|X_it) = sigmoid(α_0 + α_1*X_1it + α_2*X_2it + γ_1*age_i + γ_2*female_i + γ_3*income_i + γ_4*cpi_t)\n",
    "\n",
    "n_customers = 100\n",
    "n_products = 10\n",
    "n_days = 180\n",
    "product_names = ['Avocado','Banana','Beef','Cauliflower','Egg','Milk','Shrimp','Tomato','Yogurt','Zucchini']\n",
    "\n",
    "end_date = datetime.today() + timedelta(days=14)\n",
    "start_date = end_date - timedelta(days=n_days-1)  # Approximate 6 months as 180 days\n",
    "dates = pd.date_range(start=start_date, end=end_date, freq='D')"
   ]
  },
  {
   "cell_type": "code",
   "execution_count": 160,
   "metadata": {},
   "outputs": [],
   "source": [
    "def gen_s2_tbl(df_s1, c, output_dir):\n",
    "    # true quantity\n",
    "    df_pivot_t = df_s1.pivot_table(index=['CustomerID', 'Date'], columns='ProductID', values='OrderQuantity', fill_value=0).reset_index()\n",
    "    df_pivot_t.columns = ['CustomerID', 'Date'] + ['p'+str(i+1) for i in range(n_products)]\n",
    "    # model predicted quantity\n",
    "    df_pivot_m = df_s1.pivot_table(index=['CustomerID', 'Date'], columns='ProductID', values='pred_s1', fill_value=0).reset_index()\n",
    "    df_pivot_m.columns = ['CustomerID', 'Date'] + ['p'+str(i+1)+'_m' for i in range(n_products)]\n",
    "    df_merged = pd.merge(df_pivot_t, df_s1[['CustomerID', 'Date','Temperature','Rainfall',\n",
    "                                        'CPI','MCPI','Female','Age','Income']].drop_duplicates(), on=['CustomerID','Date'])\n",
    "    df_merged = pd.merge(df_merged, df_pivot_m, on=['CustomerID','Date'])\n",
    "\n",
    "    coefficients = np.array([c['intcpt']] + [c['p'+str(i+1)] for i in range(n_products)] + [c['age'], c['female'], c['income'], c['cpi'], c['mcpi'], c['temp'], c['rain']])\n",
    "\n",
    "    # Create the feature array, including a column of ones for the intercept term\n",
    "    features = df_merged[['p'+str(i+1) for i in range(n_products)]+['Age', 'Female', 'Income', 'CPI', 'MCPI', 'Temperature', 'Rainfall']]\n",
    "    features.insert(0, 'Intercept', 1)\n",
    "\n",
    "    df_merged['logit_t'] = np.dot(features, coefficients) + np.random.normal(0,0.001,len(df_merged))\n",
    "\n",
    "    def sigmoid(x):\n",
    "        return 1 / (1 + np.exp(-x))\n",
    "\n",
    "    df_merged['Membership_Choice']=np.where(df_merged['logit_t'].apply(sigmoid)>0.7, 1, 0)\n",
    "    df_merged.to_csv(output_dir, index=False)\n",
    "    return df_merged\n"
   ]
  },
  {
   "cell_type": "code",
   "execution_count": 161,
   "metadata": {},
   "outputs": [
    {
     "name": "stdout",
     "output_type": "stream",
     "text": [
      "   CustomerID  ProductID        Date  OrderQuantity  OrderQuantity_lag1  Day  \\\n",
      "0           1          1  2024-01-06              6                 6.0    2   \n",
      "1           1          1  2024-01-07              2                 6.0    3   \n",
      "\n",
      "   Product  Temperature  Rainfall    CPI   MCPI  Female  Age    Income  \\\n",
      "0  Avocado        42.22       0.0  100.7  100.7       0   60  59662.22   \n",
      "1  Avocado        45.34       0.0  100.7  100.7       0   60  59662.22   \n",
      "\n",
      "   intercept   pred_s1  \n",
      "0          1  6.704962  \n",
      "1          1  6.627071  \n"
     ]
    }
   ],
   "source": [
    "c = {\n",
    "    'intcpt': 0.01,\n",
    "    'p1':0.01,\n",
    "    'p2':0.025,\n",
    "    'p3':0.014,\n",
    "    'p4':0.02,\n",
    "    'p5':0.05,\n",
    "    'p6':0.02,\n",
    "    'p7':0.015,\n",
    "    'p8':0.05,\n",
    "    'p9':0.012,\n",
    "    'p10':0.025,\n",
    "    'female': -0.3,\n",
    "    'age': 0.005,\n",
    "    'income': 0.00001,\n",
    "    'temp': 0.01,\n",
    "    'rain': -0.05,\n",
    "    'cpi': -0.01,\n",
    "    'mcpi': -0.01\n",
    "}\n",
    "df_s1 = pd.read_csv('./data/stage1_model_data.csv')\n",
    "print(df_s1.head(2))\n",
    "df_s2 = gen_s2_tbl(df_s1=df_s1, c=c, output_dir='./data/stage2_data.csv')"
   ]
  },
  {
   "cell_type": "code",
   "execution_count": 162,
   "metadata": {},
   "outputs": [
    {
     "data": {
      "text/html": [
       "<div>\n",
       "<style scoped>\n",
       "    .dataframe tbody tr th:only-of-type {\n",
       "        vertical-align: middle;\n",
       "    }\n",
       "\n",
       "    .dataframe tbody tr th {\n",
       "        vertical-align: top;\n",
       "    }\n",
       "\n",
       "    .dataframe thead th {\n",
       "        text-align: right;\n",
       "    }\n",
       "</style>\n",
       "<table border=\"1\" class=\"dataframe\">\n",
       "  <thead>\n",
       "    <tr style=\"text-align: right;\">\n",
       "      <th></th>\n",
       "      <th>CustomerID</th>\n",
       "      <th>Date</th>\n",
       "      <th>p1</th>\n",
       "      <th>p2</th>\n",
       "      <th>p3</th>\n",
       "      <th>p4</th>\n",
       "      <th>p5</th>\n",
       "      <th>p6</th>\n",
       "      <th>p7</th>\n",
       "      <th>p8</th>\n",
       "      <th>...</th>\n",
       "      <th>p3_m</th>\n",
       "      <th>p4_m</th>\n",
       "      <th>p5_m</th>\n",
       "      <th>p6_m</th>\n",
       "      <th>p7_m</th>\n",
       "      <th>p8_m</th>\n",
       "      <th>p9_m</th>\n",
       "      <th>p10_m</th>\n",
       "      <th>logit_t</th>\n",
       "      <th>Membership_Choice</th>\n",
       "    </tr>\n",
       "  </thead>\n",
       "  <tbody>\n",
       "    <tr>\n",
       "      <th>0</th>\n",
       "      <td>1</td>\n",
       "      <td>2024-01-06</td>\n",
       "      <td>6.0</td>\n",
       "      <td>8.0</td>\n",
       "      <td>4.0</td>\n",
       "      <td>3.0</td>\n",
       "      <td>6.0</td>\n",
       "      <td>9.0</td>\n",
       "      <td>2.0</td>\n",
       "      <td>11.0</td>\n",
       "      <td>...</td>\n",
       "      <td>8.036451</td>\n",
       "      <td>7.421520</td>\n",
       "      <td>5.509271</td>\n",
       "      <td>7.864771</td>\n",
       "      <td>6.956440</td>\n",
       "      <td>9.830769</td>\n",
       "      <td>9.338760</td>\n",
       "      <td>10.600198</td>\n",
       "      <td>1.254485</td>\n",
       "      <td>1</td>\n",
       "    </tr>\n",
       "    <tr>\n",
       "      <th>1</th>\n",
       "      <td>1</td>\n",
       "      <td>2024-01-07</td>\n",
       "      <td>2.0</td>\n",
       "      <td>11.0</td>\n",
       "      <td>13.0</td>\n",
       "      <td>10.0</td>\n",
       "      <td>4.0</td>\n",
       "      <td>11.0</td>\n",
       "      <td>5.0</td>\n",
       "      <td>11.0</td>\n",
       "      <td>...</td>\n",
       "      <td>8.401939</td>\n",
       "      <td>8.475296</td>\n",
       "      <td>7.828525</td>\n",
       "      <td>8.498183</td>\n",
       "      <td>7.333603</td>\n",
       "      <td>10.931386</td>\n",
       "      <td>13.748742</td>\n",
       "      <td>14.281508</td>\n",
       "      <td>1.650778</td>\n",
       "      <td>1</td>\n",
       "    </tr>\n",
       "  </tbody>\n",
       "</table>\n",
       "<p>2 rows × 31 columns</p>\n",
       "</div>"
      ],
      "text/plain": [
       "   CustomerID        Date   p1    p2    p3    p4   p5    p6   p7    p8  ...  \\\n",
       "0           1  2024-01-06  6.0   8.0   4.0   3.0  6.0   9.0  2.0  11.0  ...   \n",
       "1           1  2024-01-07  2.0  11.0  13.0  10.0  4.0  11.0  5.0  11.0  ...   \n",
       "\n",
       "       p3_m      p4_m      p5_m      p6_m      p7_m       p8_m       p9_m  \\\n",
       "0  8.036451  7.421520  5.509271  7.864771  6.956440   9.830769   9.338760   \n",
       "1  8.401939  8.475296  7.828525  8.498183  7.333603  10.931386  13.748742   \n",
       "\n",
       "       p10_m   logit_t  Membership_Choice  \n",
       "0  10.600198  1.254485                  1  \n",
       "1  14.281508  1.650778                  1  \n",
       "\n",
       "[2 rows x 31 columns]"
      ]
     },
     "execution_count": 162,
     "metadata": {},
     "output_type": "execute_result"
    }
   ],
   "source": [
    "df_s2.head(2)"
   ]
  },
  {
   "cell_type": "code",
   "execution_count": 163,
   "metadata": {},
   "outputs": [
    {
     "data": {
      "text/plain": [
       "count    17900.000000\n",
       "mean         0.363184\n",
       "std          0.480931\n",
       "min          0.000000\n",
       "25%          0.000000\n",
       "50%          0.000000\n",
       "75%          1.000000\n",
       "max          1.000000\n",
       "Name: Membership_Choice, dtype: float64"
      ]
     },
     "execution_count": 163,
     "metadata": {},
     "output_type": "execute_result"
    }
   ],
   "source": [
    "df_s2.Membership_Choice.describe()"
   ]
  },
  {
   "cell_type": "code",
   "execution_count": 165,
   "metadata": {},
   "outputs": [],
   "source": [
    "df_s2.groupby(['Date']).agg({'Membership_Choice': 'mean'}).to_csv('./data/stage2_data_store.csv')"
   ]
  },
  {
   "cell_type": "code",
   "execution_count": null,
   "metadata": {},
   "outputs": [],
   "source": []
  }
 ],
 "metadata": {
  "kernelspec": {
   "display_name": "smartstock",
   "language": "python",
   "name": "python3"
  },
  "language_info": {
   "codemirror_mode": {
    "name": "ipython",
    "version": 3
   },
   "file_extension": ".py",
   "mimetype": "text/x-python",
   "name": "python",
   "nbconvert_exporter": "python",
   "pygments_lexer": "ipython3",
   "version": "3.9.19"
  }
 },
 "nbformat": 4,
 "nbformat_minor": 2
}
