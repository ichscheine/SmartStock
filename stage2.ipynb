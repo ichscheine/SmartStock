{
 "cells": [
  {
   "cell_type": "code",
   "execution_count": 1,
   "metadata": {},
   "outputs": [],
   "source": [
    "import pandas as pd\n",
    "import matplotlib.pyplot as plt\n",
    "import numpy as np\n",
    "import statsmodels.api as sm\n",
    "from datetime import datetime, timedelta\n",
    "import warnings\n",
    "warnings.filterwarnings('ignore')"
   ]
  },
  {
   "cell_type": "code",
   "execution_count": 73,
   "metadata": {},
   "outputs": [],
   "source": [
    "## p(y_i = 1|X_it) = sigmoid(α_0 + α_1*X_1it + α_2*X_2it + γ_1*age_i + γ_2*female_i + γ_3*income_i + γ_4*cpi_t)\n",
    "def gen_s2_tbl(df_s1, c, output_dir):\n",
    "    # true quantity\n",
    "    df_pivot_t = df_s1.pivot_table(index=['CustomerID', 'Date'], columns='ProductID', values='OrderQuantity', fill_value=0).reset_index()\n",
    "    df_pivot_t.columns = ['CustomerID', 'Date', 'p1', 'p2','p3','p4']\n",
    "    # model predicted quantity\n",
    "    df_pivot_m = df_s1.pivot_table(index=['CustomerID', 'Date'], columns='ProductID', values='pred_s1', fill_value=0).reset_index()\n",
    "    df_pivot_m.columns = ['CustomerID', 'Date', 'p1_m', 'p2_m','p3_m','p4_m']\n",
    "    df_merged = pd.merge(df_pivot_t, df_s1[['CustomerID', 'Date','Temperature','Rainfall',\n",
    "                                        'CPI','Female','Age','Income']].drop_duplicates(), on=['CustomerID','Date'])\n",
    "    df_merged = pd.merge(df_merged, df_pivot_m, on=['CustomerID','Date'])\n",
    "\n",
    "    df_merged['logit_t'] = c['intcpt']+c['p1']*df_merged['p1']+c['p1']*df_merged['p2']+c['p2']*df_merged['p3']+c['p3']*df_merged['p1']+\\\n",
    "    c['p4']*df_merged['p4']+c['age']*df_merged['Age']+c['female']*df_merged['Female']+ c['income']*df_merged['Income']+\\\n",
    "    c['cpi']*df_merged['CPI']+c['temp']*df_merged['Temperature']+c['rain']*df_merged['Rainfall']\n",
    "    df_merged['logit_t'] = df_merged['logit_t']+np.random.normal(0,1, len(df_merged))\n",
    "\n",
    "    def sigmoid(x):\n",
    "        return 1 / (1 + np.exp(-x))\n",
    "\n",
    "    df_merged['membr_choice']=np.where(df_merged['logit_t'].apply(sigmoid)>0.7, 1, 0)\n",
    "    df_merged.to_csv(output_dir, index=False)\n",
    "    return df_merged\n"
   ]
  },
  {
   "cell_type": "code",
   "execution_count": 78,
   "metadata": {},
   "outputs": [],
   "source": [
    "c = {\n",
    "    'intcpt': 0.1,\n",
    "    'p1':0.01,\n",
    "    'p2':0.01,\n",
    "    'p3':0.05,\n",
    "    'p4':0.02,\n",
    "    'female': -0.3,\n",
    "    'age': 0.005,\n",
    "    'income': 0.00001,\n",
    "    'temp': 0.01,\n",
    "    'rain': -0.04,\n",
    "    'cpi': -0.01,\n",
    "}\n",
    "df_s1 = pd.read_csv('./data/stage1_model_data.csv')\n",
    "df_s2 = gen_s2_tbl(df_s1=df_s1, c=c, output_dir='./data/stage2_data.csv')"
   ]
  },
  {
   "cell_type": "code",
   "execution_count": 79,
   "metadata": {},
   "outputs": [
    {
     "data": {
      "text/plain": [
       "10458"
      ]
     },
     "execution_count": 79,
     "metadata": {},
     "output_type": "execute_result"
    }
   ],
   "source": [
    "df_s2['membr_choice'].sum()"
   ]
  },
  {
   "cell_type": "code",
   "execution_count": 80,
   "metadata": {},
   "outputs": [
    {
     "data": {
      "text/html": [
       "<div>\n",
       "<style scoped>\n",
       "    .dataframe tbody tr th:only-of-type {\n",
       "        vertical-align: middle;\n",
       "    }\n",
       "\n",
       "    .dataframe tbody tr th {\n",
       "        vertical-align: top;\n",
       "    }\n",
       "\n",
       "    .dataframe thead th {\n",
       "        text-align: right;\n",
       "    }\n",
       "</style>\n",
       "<table border=\"1\" class=\"dataframe\">\n",
       "  <thead>\n",
       "    <tr style=\"text-align: right;\">\n",
       "      <th></th>\n",
       "      <th>CustomerID</th>\n",
       "      <th>Date</th>\n",
       "      <th>p1</th>\n",
       "      <th>p2</th>\n",
       "      <th>p3</th>\n",
       "      <th>p4</th>\n",
       "      <th>Temperature</th>\n",
       "      <th>Rainfall</th>\n",
       "      <th>CPI</th>\n",
       "      <th>Female</th>\n",
       "      <th>Age</th>\n",
       "      <th>Income</th>\n",
       "      <th>p1_m</th>\n",
       "      <th>p2_m</th>\n",
       "      <th>p3_m</th>\n",
       "      <th>p4_m</th>\n",
       "      <th>logit_t</th>\n",
       "      <th>membr_choice</th>\n",
       "    </tr>\n",
       "  </thead>\n",
       "  <tbody>\n",
       "    <tr>\n",
       "      <th>0</th>\n",
       "      <td>1</td>\n",
       "      <td>2023-12-21</td>\n",
       "      <td>10.0</td>\n",
       "      <td>5.0</td>\n",
       "      <td>11.0</td>\n",
       "      <td>7.0</td>\n",
       "      <td>45.34</td>\n",
       "      <td>0.00</td>\n",
       "      <td>100.93</td>\n",
       "      <td>0</td>\n",
       "      <td>60</td>\n",
       "      <td>59662.22</td>\n",
       "      <td>11.938797</td>\n",
       "      <td>6.398548</td>\n",
       "      <td>11.122452</td>\n",
       "      <td>8.794087</td>\n",
       "      <td>1.964666</td>\n",
       "      <td>1</td>\n",
       "    </tr>\n",
       "    <tr>\n",
       "      <th>1</th>\n",
       "      <td>1</td>\n",
       "      <td>2023-12-22</td>\n",
       "      <td>14.0</td>\n",
       "      <td>13.0</td>\n",
       "      <td>13.0</td>\n",
       "      <td>10.0</td>\n",
       "      <td>51.87</td>\n",
       "      <td>62.52</td>\n",
       "      <td>100.93</td>\n",
       "      <td>0</td>\n",
       "      <td>60</td>\n",
       "      <td>59662.22</td>\n",
       "      <td>15.354608</td>\n",
       "      <td>7.974386</td>\n",
       "      <td>16.914026</td>\n",
       "      <td>14.223072</td>\n",
       "      <td>-1.842689</td>\n",
       "      <td>0</td>\n",
       "    </tr>\n",
       "  </tbody>\n",
       "</table>\n",
       "</div>"
      ],
      "text/plain": [
       "   CustomerID        Date    p1    p2    p3    p4  Temperature  Rainfall  \\\n",
       "0           1  2023-12-21  10.0   5.0  11.0   7.0        45.34      0.00   \n",
       "1           1  2023-12-22  14.0  13.0  13.0  10.0        51.87     62.52   \n",
       "\n",
       "      CPI  Female  Age    Income       p1_m      p2_m       p3_m       p4_m  \\\n",
       "0  100.93       0   60  59662.22  11.938797  6.398548  11.122452   8.794087   \n",
       "1  100.93       0   60  59662.22  15.354608  7.974386  16.914026  14.223072   \n",
       "\n",
       "    logit_t  membr_choice  \n",
       "0  1.964666             1  \n",
       "1 -1.842689             0  "
      ]
     },
     "execution_count": 80,
     "metadata": {},
     "output_type": "execute_result"
    }
   ],
   "source": [
    "df_s2.head(2)"
   ]
  },
  {
   "cell_type": "code",
   "execution_count": null,
   "metadata": {},
   "outputs": [],
   "source": []
  }
 ],
 "metadata": {
  "kernelspec": {
   "display_name": "smartstock",
   "language": "python",
   "name": "python3"
  },
  "language_info": {
   "codemirror_mode": {
    "name": "ipython",
    "version": 3
   },
   "file_extension": ".py",
   "mimetype": "text/x-python",
   "name": "python",
   "nbconvert_exporter": "python",
   "pygments_lexer": "ipython3",
   "version": "3.9.19"
  }
 },
 "nbformat": 4,
 "nbformat_minor": 2
}
